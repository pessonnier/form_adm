{
 "cells": [
  {
   "cell_type": "markdown",
   "metadata": {},
   "source": [
    "# kafkaSendDataPy\n",
    "This notebook sends data to Kafka on the topic 'test'. A message that gives the current time is sent every second"
   ]
  },
  {
   "cell_type": "markdown",
   "metadata": {},
   "source": [
    "## Add dependencies"
   ]
  },
  {
   "cell_type": "code",
   "execution_count": 1,
   "metadata": {
    "collapsed": true
   },
   "outputs": [],
   "source": [
    "import os\n",
    "os.environ['PYSPARK_SUBMIT_ARGS'] = '--conf spark.ui.port=4041 --packages org.apache.kafka:kafka_2.11:0.10.0.0,org.apache.kafka:kafka-clients:0.10.0.0  pyspark-shell'"
   ]
  },
  {
   "cell_type": "markdown",
   "metadata": {},
   "source": [
    "## Load modules and start SparkContext\n",
    "Note that SparkContext must be started to effectively load the package dependencies. One core is used."
   ]
  },
  {
   "cell_type": "code",
   "execution_count": 2,
   "metadata": {},
   "outputs": [],
   "source": [
    "from pyspark import SparkContext\n",
    "sc = SparkContext(\"local[1]\", \"KafkaSendStream\") \n",
    "from kafka import KafkaProducer\n",
    "import time"
   ]
  },
  {
   "cell_type": "markdown",
   "metadata": {},
   "source": [
    "## Start Kafka producer\n",
    "One message giving current time is sent every second to the topic test"
   ]
  },
  {
   "cell_type": "code",
   "execution_count": null,
   "metadata": {},
   "outputs": [],
   "source": [
    "producer = KafkaProducer(bootstrap_servers='localhost:9092')\n",
    "while True:\n",
    "    message=time.strftime(\"%Y-%m-%d %H:%M:%S\")\n",
    "    producer.send('test', message)\n",
    "    time.sleep(1)"
   ]
  },
  {
   "cell_type": "markdown",
   "metadata": {
    "collapsed": true
   },
   "source": [
    "# TP"
   ]
  },
  {
   "cell_type": "code",
   "execution_count": 20,
   "metadata": {},
   "outputs": [
    {
     "data": {
      "text/html": [
       "<div>\n",
       "<style>\n",
       "    .dataframe thead tr:only-child th {\n",
       "        text-align: right;\n",
       "    }\n",
       "\n",
       "    .dataframe thead th {\n",
       "        text-align: left;\n",
       "    }\n",
       "\n",
       "    .dataframe tbody tr th {\n",
       "        vertical-align: top;\n",
       "    }\n",
       "</style>\n",
       "<table border=\"1\" class=\"dataframe\">\n",
       "  <thead>\n",
       "    <tr style=\"text-align: right;\">\n",
       "      <th></th>\n",
       "      <th>exchange</th>\n",
       "      <th>stock_symbol</th>\n",
       "      <th>date</th>\n",
       "      <th>stock_price_open</th>\n",
       "      <th>stock_price_high</th>\n",
       "      <th>stock_price_low</th>\n",
       "      <th>stock_price_close</th>\n",
       "      <th>stock_volume</th>\n",
       "      <th>stock_price_adj_close</th>\n",
       "    </tr>\n",
       "  </thead>\n",
       "  <tbody>\n",
       "    <tr>\n",
       "      <th>0</th>\n",
       "      <td>NYSE</td>\n",
       "      <td>XL</td>\n",
       "      <td>2010-02-08</td>\n",
       "      <td>16.47</td>\n",
       "      <td>16.85</td>\n",
       "      <td>16.29</td>\n",
       "      <td>16.51</td>\n",
       "      <td>4793200</td>\n",
       "      <td>16.51</td>\n",
       "    </tr>\n",
       "    <tr>\n",
       "      <th>1</th>\n",
       "      <td>NYSE</td>\n",
       "      <td>XL</td>\n",
       "      <td>2010-02-05</td>\n",
       "      <td>16.38</td>\n",
       "      <td>16.55</td>\n",
       "      <td>15.91</td>\n",
       "      <td>16.46</td>\n",
       "      <td>4760900</td>\n",
       "      <td>16.46</td>\n",
       "    </tr>\n",
       "    <tr>\n",
       "      <th>2</th>\n",
       "      <td>NYSE</td>\n",
       "      <td>XL</td>\n",
       "      <td>2010-02-04</td>\n",
       "      <td>17.02</td>\n",
       "      <td>17.02</td>\n",
       "      <td>16.31</td>\n",
       "      <td>16.41</td>\n",
       "      <td>6716100</td>\n",
       "      <td>16.41</td>\n",
       "    </tr>\n",
       "    <tr>\n",
       "      <th>3</th>\n",
       "      <td>NYSE</td>\n",
       "      <td>XL</td>\n",
       "      <td>2010-02-03</td>\n",
       "      <td>17.25</td>\n",
       "      <td>17.34</td>\n",
       "      <td>17.09</td>\n",
       "      <td>17.14</td>\n",
       "      <td>2657900</td>\n",
       "      <td>17.14</td>\n",
       "    </tr>\n",
       "    <tr>\n",
       "      <th>4</th>\n",
       "      <td>NYSE</td>\n",
       "      <td>XL</td>\n",
       "      <td>2010-02-02</td>\n",
       "      <td>16.93</td>\n",
       "      <td>17.52</td>\n",
       "      <td>16.80</td>\n",
       "      <td>17.33</td>\n",
       "      <td>4282200</td>\n",
       "      <td>17.33</td>\n",
       "    </tr>\n",
       "  </tbody>\n",
       "</table>\n",
       "</div>"
      ],
      "text/plain": [
       "  exchange stock_symbol        date  stock_price_open  stock_price_high  \\\n",
       "0     NYSE           XL  2010-02-08             16.47             16.85   \n",
       "1     NYSE           XL  2010-02-05             16.38             16.55   \n",
       "2     NYSE           XL  2010-02-04             17.02             17.02   \n",
       "3     NYSE           XL  2010-02-03             17.25             17.34   \n",
       "4     NYSE           XL  2010-02-02             16.93             17.52   \n",
       "\n",
       "   stock_price_low  stock_price_close  stock_volume  stock_price_adj_close  \n",
       "0            16.29              16.51       4793200                  16.51  \n",
       "1            15.91              16.46       4760900                  16.46  \n",
       "2            16.31              16.41       6716100                  16.41  \n",
       "3            17.09              17.14       2657900                  17.14  \n",
       "4            16.80              17.33       4282200                  17.33  "
      ]
     },
     "execution_count": 20,
     "metadata": {},
     "output_type": "execute_result"
    }
   ],
   "source": [
    "producer = KafkaProducer(bootstrap_servers='localhost:9092')\n",
    "import pandas as pd\n",
    "df= pd.read_csv('stocks.csv')\n",
    "df.head()"
   ]
  },
  {
   "cell_type": "code",
   "execution_count": null,
   "metadata": {},
   "outputs": [],
   "source": [
    "import time\n",
    "for i, l in df.iterrows():\n",
    "    producer.send('test_stock', ','.join([time.strftime(\"%Y-%m-%d %H:%M:%S\"), l['exchange'], l['date'], str(l['stock_price_open'])]))\n",
    "    time.sleep(1)"
   ]
  },
  {
   "cell_type": "code",
   "execution_count": null,
   "metadata": {
    "collapsed": true
   },
   "outputs": [],
   "source": []
  }
 ],
 "metadata": {
  "kernelspec": {
   "display_name": "Python 2",
   "language": "python",
   "name": "python2"
  },
  "language_info": {
   "codemirror_mode": {
    "name": "ipython",
    "version": 2
   },
   "file_extension": ".py",
   "mimetype": "text/x-python",
   "name": "python",
   "nbconvert_exporter": "python",
   "pygments_lexer": "ipython2",
   "version": "2.7.10"
  }
 },
 "nbformat": 4,
 "nbformat_minor": 1
}
